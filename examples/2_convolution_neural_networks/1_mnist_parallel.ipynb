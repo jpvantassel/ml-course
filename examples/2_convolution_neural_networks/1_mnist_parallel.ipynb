{
 "cells": [
  {
   "cell_type": "markdown",
   "metadata": {
    "id": "F4i0R-3vnlfK"
   },
   "source": [
    "# Convolution Neural Networks - MNIST Dataset - Parallel\n",
    "\n",
    "> Joseph P. Vantassel, Texas Advanced Computing Center - The University of Texas at Austin\n"
   ]
  },
  {
   "cell_type": "code",
   "execution_count": null,
   "metadata": {},
   "outputs": [],
   "source": [
    "# If you have not done so previously.\n",
    "!pip install -r requirements.txt"
   ]
  },
  {
   "cell_type": "code",
   "execution_count": null,
   "metadata": {
    "id": "7S2VzvebngFm"
   },
   "outputs": [],
   "source": [
    "import os\n",
    "os.environ['TF_CPP_MIN_LOG_LEVEL'] = '3' \n",
    "\n",
    "import matplotlib as mpl\n",
    "import matplotlib.pyplot as plt\n",
    "import numpy as np\n",
    "import tensorflow as tf\n",
    "from tensorflow import keras\n",
    "from tensorflow.keras import layers, models\n",
    "\n",
    "mpl.rcParams[\"font.size\"]=8"
   ]
  },
  {
   "cell_type": "markdown",
   "metadata": {
    "id": "dop1eGqhn9bU"
   },
   "source": [
    "## Import and Visualize Data"
   ]
  },
  {
   "cell_type": "code",
   "execution_count": null,
   "metadata": {
    "colab": {
     "base_uri": "https://localhost:8080/"
    },
    "id": "603cad4tn084",
    "outputId": "a17cb9ad-4d4d-4fc5-d8f9-2c80e317935b"
   },
   "outputs": [],
   "source": [
    "data = keras.datasets.mnist.load_data()\n",
    "(x_train, y_train), (x_test, y_test) = data"
   ]
  },
  {
   "cell_type": "code",
   "execution_count": null,
   "metadata": {
    "colab": {
     "base_uri": "https://localhost:8080/"
    },
    "id": "NdmjcqYYn8C3",
    "outputId": "ad0c2364-ed5f-48d9-b687-e1ccfd32eb80"
   },
   "outputs": [],
   "source": [
    "print(x_train.shape)\n",
    "print(y_train.shape)\n",
    "print(x_test.shape)\n",
    "print(y_test.shape)"
   ]
  },
  {
   "cell_type": "code",
   "execution_count": null,
   "metadata": {
    "colab": {
     "base_uri": "https://localhost:8080/",
     "height": 250
    },
    "id": "nKsvCTDeozGk",
    "outputId": "9e30ac1b-af86-463d-9bf5-e3bdfdf3afb7"
   },
   "outputs": [],
   "source": [
    "for idx in range(3):\n",
    "    plt.imshow(x_train[idx], cmap=\"binary_r\")\n",
    "    plt.title(f\"y={y_train[idx]}\")\n",
    "    plt.show()"
   ]
  },
  {
   "cell_type": "markdown",
   "metadata": {
    "id": "QyKnWoJqpwRU"
   },
   "source": [
    "## Preprocess\n",
    "\n",
    "### Image Preperation\n",
    "\n",
    "- Calculate mean and std and store for later.\n",
    "- Normalize image inputs."
   ]
  },
  {
   "cell_type": "code",
   "execution_count": null,
   "metadata": {
    "colab": {
     "base_uri": "https://localhost:8080/"
    },
    "id": "8ipCQI1IpnMh",
    "outputId": "8d9f26c1-e83d-4f08-d8e3-0a7a1748329e"
   },
   "outputs": [],
   "source": [
    "x_mean, x_std = np.mean(x_train), np.std(x_train)\n",
    "print(f\"mean={x_mean:.2f}, std={x_std:.2f}\")\n",
    "x_train_norm = (x_train - x_mean)/x_std\n",
    "print(f\"mean={np.mean(x_train_norm):.2f}, std={np.std(x_train_norm):.2f}\")"
   ]
  },
  {
   "cell_type": "markdown",
   "metadata": {
    "id": "7IUIahrpqsGi"
   },
   "source": [
    "### Output Preperation\n",
    "\n",
    "- One-hot encoding"
   ]
  },
  {
   "cell_type": "code",
   "execution_count": null,
   "metadata": {
    "id": "Mc34znggo8Nl"
   },
   "outputs": [],
   "source": [
    "y_train_one_hot = np.zeros((y_train.size, 10), dtype=int)\n",
    "for row, col in enumerate(y_train):\n",
    "    y_train_one_hot[row, col] = 1"
   ]
  },
  {
   "cell_type": "markdown",
   "metadata": {
    "id": "hKlzDHuJtDgd"
   },
   "source": [
    "### Check"
   ]
  },
  {
   "cell_type": "code",
   "execution_count": null,
   "metadata": {
    "colab": {
     "base_uri": "https://localhost:8080/",
     "height": 267
    },
    "id": "Aq3Jkzmms2ia",
    "outputId": "22f71818-248a-42c8-afcc-e17d850cb54f"
   },
   "outputs": [],
   "source": [
    "idx = 0\n",
    "plt.imshow(x_train_norm[idx], cmap=\"binary_r\")\n",
    "plt.axis(\"off\")\n",
    "plt.title(f\"y={y_train[idx]}\")\n",
    "plt.show()\n",
    "print(y_train[idx], y_train_one_hot[idx])"
   ]
  },
  {
   "cell_type": "markdown",
   "metadata": {
    "id": "W7ZBoIIwtuyU"
   },
   "source": [
    "## Develop Network Architecture\n",
    "\n",
    "For parallel training, add `mirrored_strategy` context."
   ]
  },
  {
   "cell_type": "code",
   "execution_count": null,
   "metadata": {
    "id": "exf9sDLwtKuO"
   },
   "outputs": [],
   "source": [
    "mirrored_strategy = tf.distribute.MirroredStrategy([f\"GPU:{x}\" for x in range(4)])\n",
    "\n",
    "def get_model():\n",
    "    with mirrored_strategy.scope():\n",
    "        inputs = keras.Input(shape=(28, 28, 1))\n",
    "        x = layers.Conv2D(32, kernel_size=3, strides=2, activation=\"relu\")(inputs)\n",
    "        x = layers.Conv2D(64, kernel_size=3, activation=\"relu\")(x)\n",
    "        x = layers.Conv2D(64, kernel_size=3, activation=\"relu\")(x)\n",
    "        x = layers.Conv2D(10, kernel_size=3, activation=\"relu\")(x)\n",
    "        b, h, w, c = x.shape\n",
    "        x = layers.AveragePooling2D(pool_size=(h, w))(x)\n",
    "        x = layers.Flatten()(x)\n",
    "        model = keras.Model(inputs, x)\n",
    "    return model\n",
    "model = get_model()"
   ]
  },
  {
   "cell_type": "markdown",
   "metadata": {
    "id": "DWPDPmst1aau"
   },
   "source": [
    "### Define Loss Function\n",
    "\n",
    "- Categorical Cross Entropy on Logits"
   ]
  },
  {
   "cell_type": "code",
   "execution_count": null,
   "metadata": {
    "id": "eDyUxaoW1X4h"
   },
   "outputs": [],
   "source": [
    "loss = tf.keras.losses.CategoricalCrossentropy(from_logits=True, label_smoothing=0, reduction=\"auto\")"
   ]
  },
  {
   "cell_type": "code",
   "execution_count": null,
   "metadata": {
    "id": "hP9ocveKuZFz"
   },
   "outputs": [],
   "source": [
    "optimizer = tf.keras.optimizers.SGD(learning_rate=0.01, momentum=0.9)"
   ]
  },
  {
   "cell_type": "code",
   "execution_count": null,
   "metadata": {},
   "outputs": [],
   "source": [
    "model.compile(optimizer=optimizer, loss=loss)"
   ]
  },
  {
   "cell_type": "code",
   "execution_count": null,
   "metadata": {
    "colab": {
     "base_uri": "https://localhost:8080/"
    },
    "id": "_MQciEteBfSU",
    "outputId": "dbebf8fd-b759-474e-b118-ab4816d8cd33"
   },
   "outputs": [],
   "source": [
    "model.summary()"
   ]
  },
  {
   "cell_type": "code",
   "execution_count": null,
   "metadata": {
    "colab": {
     "base_uri": "https://localhost:8080/"
    },
    "id": "4rJl2HWH1BUH",
    "outputId": "2ac3d365-4f0e-4c76-a5a7-1709f778e5d6"
   },
   "outputs": [],
   "source": [
    "# Hyperparameters\n",
    "batch_size = 64\n",
    "epochs = 10\n",
    "validation_split = 0.2\n",
    "\n",
    "history = model.fit(x_train_norm, y_train_one_hot, validation_split=validation_split, epochs=epochs)"
   ]
  },
  {
   "cell_type": "code",
   "execution_count": null,
   "metadata": {
    "colab": {
     "base_uri": "https://localhost:8080/",
     "height": 279
    },
    "id": "UA6n2dKb7rCh",
    "outputId": "50edc0fb-942c-44d0-deed-86a9dc776563"
   },
   "outputs": [],
   "source": [
    "plt.plot(history.epoch, history.history[\"loss\"], color=\"black\", label=\"Training Data\")\n",
    "plt.plot(history.epoch, history.history[\"val_loss\"], color=\"blue\", label=\"Validation Data\")\n",
    "plt.xlabel(\"Epoch\")\n",
    "plt.ylabel(\"Loss\")\n",
    "plt.legend()\n",
    "plt.show()"
   ]
  },
  {
   "cell_type": "markdown",
   "metadata": {
    "id": "qI4xT14p3GII"
   },
   "source": [
    "### View Results"
   ]
  },
  {
   "cell_type": "code",
   "execution_count": null,
   "metadata": {
    "id": "n-BzarwK3FA8"
   },
   "outputs": [],
   "source": [
    "y_test_predicted = model.predict((x_test - x_mean)/x_std)\n",
    "y_test_prob = keras.layers.Softmax(axis=-1)(y_test_predicted)"
   ]
  },
  {
   "cell_type": "code",
   "execution_count": null,
   "metadata": {
    "colab": {
     "base_uri": "https://localhost:8080/",
     "height": 1000
    },
    "id": "0uL0QkmP2HyF",
    "outputId": "5f29cf71-fdbf-4040-acb7-6e78e3829a8c"
   },
   "outputs": [],
   "source": [
    "for idx in range(5):\n",
    "    fig, axs = plt.subplots(ncols=2, figsize=(4, 1), dpi=150)\n",
    "    ax = axs[0]\n",
    "    ax.imshow(x_test[idx], cmap=\"binary_r\")\n",
    "    ax.axis(\"off\")\n",
    "\n",
    "    ax = axs[1]\n",
    "    ax.bar(np.arange(10), y_test_prob[idx])\n",
    "    ax.set_xticks(range(10))\n",
    "    ax.plot(y_test[idx], 0.5, marker=\"d\", color=\"lightgreen\")\n",
    "    ax.set_xticks(range(10))\n",
    "    ax.set_ylim(0, 1)\n",
    "    ax.set_xlabel(\"Classification\")\n",
    "    ax.set_ylabel(\"Probability\")\n",
    "    plt.show()"
   ]
  },
  {
   "cell_type": "markdown",
   "metadata": {
    "id": "HitulIWJ_IkK"
   },
   "source": [
    "## Calculate Prediction Accuracy"
   ]
  },
  {
   "cell_type": "code",
   "execution_count": null,
   "metadata": {
    "colab": {
     "base_uri": "https://localhost:8080/"
    },
    "id": "Ij1oAQel59ud",
    "outputId": "604ef2d6-4dd5-4499-ba34-4a56692b9ee1"
   },
   "outputs": [],
   "source": [
    "y_pred = np.argmax(y_test_prob, axis=-1)\n",
    "accuracy = np.sum(y_test == y_pred)/len(y_pred)\n",
    "print(f\"Test Accuracy: {accuracy*100:.1f}%\")"
   ]
  },
  {
   "cell_type": "markdown",
   "metadata": {
    "id": "B95IukZQ-ayA"
   },
   "source": [
    "## Failed Predictions"
   ]
  },
  {
   "cell_type": "code",
   "execution_count": null,
   "metadata": {
    "colab": {
     "base_uri": "https://localhost:8080/",
     "height": 1000
    },
    "id": "COKGP9XI7oTj",
    "outputId": "154ad032-e2ac-4256-dbf5-a51a881965aa"
   },
   "outputs": [],
   "source": [
    "idxs = np.argwhere(y_test != y_pred).flatten()\n",
    "\n",
    "nidxs = 5\n",
    "count = 0\n",
    "for idx in idxs:\n",
    "    fig, axs = plt.subplots(ncols=2, figsize=(4, 1), dpi=150)\n",
    "    ax = axs[0]\n",
    "    ax.imshow(x_test[idx], cmap=\"binary_r\")\n",
    "    ax.axis(\"off\")\n",
    "\n",
    "    ax = axs[1]\n",
    "    ax.bar(np.arange(10), y_test_prob[idx])\n",
    "    ax.plot(y_test[idx], 0.5, marker=\"d\", color=\"lightgreen\")\n",
    "    ax.set_xticks(range(10))\n",
    "    ax.set_ylim(0, 1)\n",
    "    ax.set_xlabel(\"Classification\")\n",
    "    ax.set_ylabel(\"Probability\")\n",
    "    plt.show()\n",
    "    count += 1\n",
    "    \n",
    "    if count == nidxs:\n",
    "        break"
   ]
  },
  {
   "cell_type": "code",
   "execution_count": null,
   "metadata": {
    "id": "jeiCAiTC7pE1"
   },
   "outputs": [],
   "source": []
  }
 ],
 "metadata": {
  "accelerator": "GPU",
  "colab": {
   "collapsed_sections": [],
   "name": "mnist_main.ipynb",
   "provenance": []
  },
  "kernelspec": {
   "display_name": "Python 3 (ipykernel)",
   "language": "python",
   "name": "python3"
  },
  "language_info": {
   "codemirror_mode": {
    "name": "ipython",
    "version": 3
   },
   "file_extension": ".py",
   "mimetype": "text/x-python",
   "name": "python",
   "nbconvert_exporter": "python",
   "pygments_lexer": "ipython3",
   "version": "3.9.5"
  }
 },
 "nbformat": 4,
 "nbformat_minor": 4
}
