{
 "cells": [
  {
   "cell_type": "markdown",
   "id": "4367076f-91cf-48d4-88d5-125fdd7dbde6",
   "metadata": {},
   "source": [
    "# Linear Regression - Real Estate Data Set - Regularization\n",
    "\n",
    "> Joseph P. Vantassel, The University of Texas at Austin"
   ]
  },
  {
   "cell_type": "code",
   "execution_count": 1,
   "id": "7c86c919-89d7-47b5-94e6-59e275d2a831",
   "metadata": {},
   "outputs": [],
   "source": [
    "import matplotlib.pyplot as plt\n",
    "import numpy as np\n",
    "import pandas as pd\n",
    "import sklearn\n",
    "from sklearn import linear_model as lm"
   ]
  },
  {
   "cell_type": "markdown",
   "id": "20aaac6a-4a4b-4b9c-b1b4-9d3412a1c6f5",
   "metadata": {},
   "source": [
    "## Load Data"
   ]
  },
  {
   "cell_type": "code",
   "execution_count": 2,
   "id": "84e84191-055a-40c6-a550-f58c5f163446",
   "metadata": {},
   "outputs": [
    {
     "name": "stdout",
     "output_type": "stream",
     "text": [
      "xfeatures.shape = (414, 6)\n",
      "ypredict.shape = (414,)\n"
     ]
    }
   ],
   "source": [
    "# load dataframe\n",
    "df = pd.read_csv(\"real_estate.csv\")\n",
    "\n",
    "# convert to numpy\n",
    "xfeatures = df.iloc[:, 1:-1].to_numpy()\n",
    "ypredict = df.iloc[:, -1].to_numpy()\n",
    "\n",
    "# make sure we did the slices correctly\n",
    "print(f\"xfeatures.shape = {xfeatures.shape}\")\n",
    "print(f\"ypredict.shape = {ypredict.shape}\")"
   ]
  },
  {
   "cell_type": "markdown",
   "id": "91120142-610a-4016-8745-ae715769e096",
   "metadata": {},
   "source": [
    "## Shuffle and Split"
   ]
  },
  {
   "cell_type": "code",
   "execution_count": 3,
   "id": "5dc156b4-aff0-4018-9119-84ff507ef718",
   "metadata": {},
   "outputs": [
    {
     "name": "stdout",
     "output_type": "stream",
     "text": [
      "(289, 6) (289,)\n",
      "(62, 6) (62,)\n",
      "(62, 6) (62,)\n"
     ]
    }
   ],
   "source": [
    "ptrain, pvalid, ptest = 0.7, 0.15, 0.15\n",
    "\n",
    "# shuffle\n",
    "rng = np.random.default_rng(1824)\n",
    "shuffle_idxs = np.arange(len(ypredict))\n",
    "rng.shuffle(shuffle_idxs)\n",
    "xfeatures_shuffled = xfeatures[shuffle_idxs]\n",
    "ypredict_shuffled = ypredict[shuffle_idxs]\n",
    "\n",
    "# split\n",
    "start_idx, stop_idx = 0, int(ptrain*len(ypredict))\n",
    "xfeatures_train, ypredict_train = xfeatures_shuffled[start_idx: stop_idx], ypredict_shuffled[start_idx: stop_idx]\n",
    "print(xfeatures_train.shape, ypredict_train.shape)\n",
    "\n",
    "\n",
    "start_idx, stop_idx = stop_idx, stop_idx+int(pvalid*len(ypredict))\n",
    "xfeatures_valid, ypredict_valid = xfeatures_shuffled[start_idx: stop_idx], ypredict_shuffled[start_idx: stop_idx]\n",
    "print(xfeatures_valid.shape, ypredict_valid.shape)\n",
    "\n",
    "\n",
    "start_idx, stop_idx = stop_idx, -1\n",
    "xfeatures_test, ypredict_test = xfeatures_shuffled[start_idx: stop_idx], ypredict_shuffled[start_idx: stop_idx]\n",
    "print(xfeatures_test.shape, ypredict_test.shape)\n"
   ]
  },
  {
   "cell_type": "markdown",
   "id": "281a8dcc-c18d-462e-8d6f-09bba8fb6864",
   "metadata": {},
   "source": [
    "## Normalize"
   ]
  },
  {
   "cell_type": "code",
   "execution_count": 4,
   "id": "a9dc5cad-3902-44f1-87b7-cc408eaa3a48",
   "metadata": {},
   "outputs": [],
   "source": [
    "# constant to ensure no divide by zero\n",
    "eps = 1E-4\n",
    "\n",
    "def normalize_standardscore(features, means, stds):\n",
    "    return (features - means)/(stds + eps)\n",
    "    \n",
    "def normalize_minmax(features, mins, maxs):\n",
    "    return (features - mins)/((maxs - mins) + eps)\n",
    "\n",
    "def normalize_max(features, maxs):\n",
    "    return features / (maxs + eps)\n",
    "\n",
    "def rmse(yhat, y):\n",
    "    return np.sqrt(np.mean(np.power(yhat - y, 2)))"
   ]
  },
  {
   "cell_type": "code",
   "execution_count": 18,
   "id": "81d5a2ef-c9f8-42bc-b7c8-786264cfeb8d",
   "metadata": {},
   "outputs": [],
   "source": [
    "# stats\n",
    "xmean, xstd = np.mean(xfeatures_train, axis=0), np.std(xfeatures_train, axis=0, ddof=1)\n",
    "xmin, xmax = np.min(xfeatures_train, axis=0), np.max(xfeatures_train, axis=0)\n",
    "\n",
    "# training set\n",
    "x_for_train = np.hstack((\n",
    "     normalize_standardscore(xfeatures_train, xmean, xstd), # normalize between -3 & +3\n",
    "     np.log10(normalize_max(xfeatures_train, xmax) + 0.5), # normalize between 0 and 1\n",
    "     np.exp(normalize_minmax(xfeatures_train, xmin, xmax))\n",
    "))\n",
    "xmean_after, xstd_after = np.mean(x_for_train, axis=0), np.std(x_for_train, axis=0)\n",
    "x_for_train = normalize_standardscore(x_for_train, xmean_after, xstd_after)\n",
    "y_for_train = ypredict_train\n",
    "\n",
    "# validation set\n",
    "x_for_valid = np.hstack((\n",
    "     normalize_standardscore(xfeatures_valid, xmean, xstd), # normalize between -3 & +3\n",
    "     np.log10(normalize_max(xfeatures_valid, xmax) + 0.5), # normalize between 0 and 1\n",
    "     np.exp(normalize_minmax(xfeatures_valid, xmin, xmax))\n",
    "))\n",
    "x_for_valid = normalize_standardscore(x_for_valid, xmean_after, xstd_after)\n",
    "y_for_valid = ypredict_valid"
   ]
  },
  {
   "cell_type": "markdown",
   "id": "26fae451-eb4b-45d4-bf5d-00fc46b9f18c",
   "metadata": {},
   "source": [
    "## Train Regularized (or Ridge) Model\n",
    "\n",
    "This model is different from the purely linear model previously discussed because it includes penalty term for more complex interpreations and should help to reduce the variance in the model we developed previously."
   ]
  },
  {
   "cell_type": "code",
   "execution_count": 21,
   "id": "c5d95259-aab6-44dd-a72e-1a2b449c8e6a",
   "metadata": {},
   "outputs": [],
   "source": [
    "alphas = [0.001, 0.01, 0.1, 0.3, 1, 2, 4, 8, 10]\n",
    "rmse_train = []\n",
    "rmse_valid = []\n",
    "for alpha in alphas:\n",
    "    rmodel = lm.Ridge(alpha=alpha, fit_intercept=True)\n",
    "    rmodel_trained = rmodel.fit(x_for_train, y_for_train)\n",
    "    \n",
    "    yhat_train = rmodel_trained.predict(x_for_train)\n",
    "    rmse_train.append(rmse(yhat_train, y_for_train))\n",
    "    \n",
    "    yhat_valid = rmodel_trained.predict(x_for_valid)\n",
    "    rmse_valid.append(rmse(yhat_valid, y_for_valid))"
   ]
  },
  {
   "cell_type": "code",
   "execution_count": 23,
   "id": "a33fbf3c-3f9e-45d2-ba4d-41059b83696b",
   "metadata": {},
   "outputs": [
    {
     "data": {
      "image/png": "[encoded data removed]",
      "text/plain": [
       "<Figure size 432x288 with 1 Axes>"
      ]
     },
     "metadata": {
      "needs_background": "light"
     },
     "output_type": "display_data"
    }
   ],
   "source": [
    "plt.plot(alphas, rmse_train, label=\"Train\")\n",
    "plt.plot(alphas, rmse_valid, label=\"Valid\")\n",
    "plt.xscale(\"log\")\n",
    "plt.legend()\n",
    "plt.show()"
   ]
  },
  {
   "cell_type": "code",
   "execution_count": null,
   "id": "b7e645e4-1850-463d-a36d-3c6ca481e4fd",
   "metadata": {},
   "outputs": [],
   "source": []
  }
 ],
 "metadata": {
  "kernelspec": {
   "display_name": "mltfvenv",
   "language": "python",
   "name": "mltfvenv"
  },
  "language_info": {
   "codemirror_mode": {
    "name": "ipython",
    "version": 3
   },
   "file_extension": ".py",
   "mimetype": "text/x-python",
   "name": "python",
   "nbconvert_exporter": "python",
   "pygments_lexer": "ipython3",
   "version": "3.8.9"
  }
 },
 "nbformat": 4,
 "nbformat_minor": 5
}
