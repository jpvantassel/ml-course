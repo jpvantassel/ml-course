{
 "cells": [
  {
   "cell_type": "markdown",
   "id": "4367076f-91cf-48d4-88d5-125fdd7dbde6",
   "metadata": {},
   "source": [
    "# Linear Regression - Real Estate Data Set - Regularization\n",
    "\n",
    "> Joseph P. Vantassel, Texas Advanced Computing Center - The University of Texas at Austin"
   ]
  },
  {
   "cell_type": "code",
   "execution_count": null,
   "id": "6b1d5405-a95f-4dba-b55f-2990c6fa7be7",
   "metadata": {},
   "outputs": [],
   "source": [
    "# If you have not done so previously.\n",
    "!pip install -r requirements.txt"
   ]
  },
  {
   "cell_type": "code",
   "execution_count": 1,
   "id": "7c86c919-89d7-47b5-94e6-59e275d2a831",
   "metadata": {},
   "outputs": [],
   "source": [
    "import matplotlib.pyplot as plt\n",
    "import numpy as np\n",
    "import pandas as pd\n",
    "import sklearn\n",
    "from sklearn import linear_model as lm"
   ]
  },
  {
   "cell_type": "markdown",
   "id": "20aaac6a-4a4b-4b9c-b1b4-9d3412a1c6f5",
   "metadata": {},
   "source": [
    "## Load Data"
   ]
  },
  {
   "cell_type": "code",
   "execution_count": 2,
   "id": "84e84191-055a-40c6-a550-f58c5f163446",
   "metadata": {},
   "outputs": [
    {
     "name": "stdout",
     "output_type": "stream",
     "text": [
      "xfeatures.shape = (414, 6)\n",
      "ypredict.shape = (414,)\n"
     ]
    }
   ],
   "source": [
    "# load dataframe\n",
    "df = pd.read_csv(\"real_estate.csv\")\n",
    "\n",
    "# convert to numpy\n",
    "xfeatures = df.iloc[:, 1:-1].to_numpy()\n",
    "ypredict = df.iloc[:, -1].to_numpy()\n",
    "\n",
    "# make sure we did the slices correctly\n",
    "print(f\"xfeatures.shape = {xfeatures.shape}\")\n",
    "print(f\"ypredict.shape = {ypredict.shape}\")"
   ]
  },
  {
   "cell_type": "markdown",
   "id": "91120142-610a-4016-8745-ae715769e096",
   "metadata": {},
   "source": [
    "## Shuffle and Split"
   ]
  },
  {
   "cell_type": "code",
   "execution_count": 3,
   "id": "5dc156b4-aff0-4018-9119-84ff507ef718",
   "metadata": {},
   "outputs": [
    {
     "name": "stdout",
     "output_type": "stream",
     "text": [
      "(289, 6) (289,)\n",
      "(62, 6) (62,)\n",
      "(62, 6) (62,)\n"
     ]
    }
   ],
   "source": [
    "ptrain, pvalid, ptest = 0.7, 0.15, 0.15\n",
    "\n",
    "# shuffle\n",
    "rng = np.random.default_rng(1824)\n",
    "shuffle_idxs = np.arange(len(ypredict))\n",
    "rng.shuffle(shuffle_idxs)\n",
    "xfeatures_shuffled = xfeatures[shuffle_idxs]\n",
    "ypredict_shuffled = ypredict[shuffle_idxs]\n",
    "\n",
    "# split\n",
    "start_idx, stop_idx = 0, int(ptrain*len(ypredict))\n",
    "xfeatures_train, ypredict_train = xfeatures_shuffled[start_idx: stop_idx], ypredict_shuffled[start_idx: stop_idx]\n",
    "print(xfeatures_train.shape, ypredict_train.shape)\n",
    "\n",
    "\n",
    "start_idx, stop_idx = stop_idx, stop_idx+int(pvalid*len(ypredict))\n",
    "xfeatures_valid, ypredict_valid = xfeatures_shuffled[start_idx: stop_idx], ypredict_shuffled[start_idx: stop_idx]\n",
    "print(xfeatures_valid.shape, ypredict_valid.shape)\n",
    "\n",
    "\n",
    "start_idx, stop_idx = stop_idx, -1\n",
    "xfeatures_test, ypredict_test = xfeatures_shuffled[start_idx: stop_idx], ypredict_shuffled[start_idx: stop_idx]\n",
    "print(xfeatures_test.shape, ypredict_test.shape)\n"
   ]
  },
  {
   "cell_type": "markdown",
   "id": "281a8dcc-c18d-462e-8d6f-09bba8fb6864",
   "metadata": {},
   "source": [
    "## Normalize"
   ]
  },
  {
   "cell_type": "code",
   "execution_count": 4,
   "id": "a9dc5cad-3902-44f1-87b7-cc408eaa3a48",
   "metadata": {},
   "outputs": [],
   "source": [
    "# constant to ensure no divide by zero\n",
    "eps = 1E-4\n",
    "\n",
    "def normalize_standardscore(features, means, stds):\n",
    "    return (features - means)/(stds + eps)\n",
    "    \n",
    "def normalize_minmax(features, mins, maxs):\n",
    "    return (features - mins)/((maxs - mins) + eps)\n",
    "\n",
    "def normalize_max(features, maxs):\n",
    "    return features / (maxs + eps)\n",
    "\n",
    "def rmse(yhat, y):\n",
    "    return np.sqrt(np.mean(np.power(yhat - y, 2)))"
   ]
  },
  {
   "cell_type": "code",
   "execution_count": 5,
   "id": "81d5a2ef-c9f8-42bc-b7c8-786264cfeb8d",
   "metadata": {},
   "outputs": [],
   "source": [
    "x_train_tmp = xfeatures_train\n",
    "x_valid_tmp = xfeatures_valid\n",
    "\n",
    "# add quadratic part (optional: comment out if undesired).\n",
    "xfeatures_train_quad = []\n",
    "for start, pfeature in enumerate(x_train_tmp.T):\n",
    "    for sfeature in x_train_tmp.T[start:]:\n",
    "        xfeatures_train_quad.append(pfeature * sfeature)\n",
    "xfeatures_train_quad = np.array(xfeatures_train_quad).T\n",
    "x_train_tmp = np.hstack((x_train_tmp, xfeatures_train_quad))\n",
    "\n",
    "xfeatures_valid_quad = []\n",
    "for start, pfeature in enumerate(xfeatures_valid.T):\n",
    "    for sfeature in xfeatures_valid.T[start:]:\n",
    "        xfeatures_valid_quad.append(pfeature * sfeature)\n",
    "xfeatures_valid_quad = np.array(xfeatures_valid_quad).T\n",
    "x_valid_tmp = np.hstack((xfeatures_valid, xfeatures_valid_quad))\n",
    "\n",
    "# normalize\n",
    "xmean, xstd = np.mean(x_train_tmp, axis=0), np.std(x_train_tmp, axis=0, ddof=1)\n",
    "x_for_train = normalize_standardscore(x_train_tmp, xmean, xstd)\n",
    "x_for_valid = normalize_standardscore(x_valid_tmp, xmean, xstd)\n",
    "\n",
    "y_for_train = ypredict_train\n",
    "y_for_valid = ypredict_valid"
   ]
  },
  {
   "cell_type": "markdown",
   "id": "26fae451-eb4b-45d4-bf5d-00fc46b9f18c",
   "metadata": {},
   "source": [
    "## Train Regularized (or Ridge) Model\n",
    "\n",
    "This model is different from the purely linear model previously discussed because it includes penalty term for more complex interpreations and should help to reduce the variance in the model we developed previously."
   ]
  },
  {
   "cell_type": "code",
   "execution_count": 6,
   "id": "c5d95259-aab6-44dd-a72e-1a2b449c8e6a",
   "metadata": {},
   "outputs": [],
   "source": [
    "alphas = [0.001, 0.01, 0.1, 0.3, 1, 2, 4, 8, 10]\n",
    "rmse_train = []\n",
    "rmse_valid = []\n",
    "for alpha in alphas:\n",
    "    rmodel = lm.Ridge(alpha=alpha, fit_intercept=True)\n",
    "    rmodel_trained = rmodel.fit(x_for_train, y_for_train)\n",
    "    \n",
    "    yhat_train = rmodel_trained.predict(x_for_train)\n",
    "    rmse_train.append(rmse(yhat_train, y_for_train))\n",
    "    \n",
    "    yhat_valid = rmodel_trained.predict(x_for_valid)\n",
    "    rmse_valid.append(rmse(yhat_valid, y_for_valid))"
   ]
  },
  {
   "cell_type": "code",
   "execution_count": 7,
   "id": "a33fbf3c-3f9e-45d2-ba4d-41059b83696b",
   "metadata": {},
   "outputs": [
    {
     "data": {
      "image/png": "[encoded data removed]",
      "text/plain": [
       "<Figure size 432x288 with 1 Axes>"
      ]
     },
     "metadata": {
      "needs_background": "light"
     },
     "output_type": "display_data"
    }
   ],
   "source": [
    "plt.plot(alphas, rmse_train, label=\"Train\")\n",
    "plt.plot(alphas, rmse_valid, label=\"Valid\")\n",
    "plt.xscale(\"log\")\n",
    "plt.xlabel(\"Alpha\")\n",
    "plt.ylabel(\"RMSE\")\n",
    "plt.legend()\n",
    "plt.show()"
   ]
  },
  {
   "cell_type": "markdown",
   "id": "3bd8203b-75f4-4da0-87dc-53a754f3bb79",
   "metadata": {},
   "source": [
    "## Conclusion\n",
    "\n",
    "If we operate under the assumption we have a high-variance example, these results are somewhat surprising.\n",
    "\n",
    "I believe what we are seeing is that we do not actually have a high-variance example but rather a high-bias example and that\n",
    "we were \"tricked\" ;) by the vertical scale on the learning curve. If we return to the learning curve and plot in on a scale from 0 to 50 we see that the training and validation are actually quite similar to one another. This is inidcating high-bias such that regularization or more training examples will not help to solve the problem. Instead what we need is more real or engineered features in our dataset. For this example it is not possible to gather more features, but we can explore more engineered features. To do this we can either do so manually (through a process called feature engineering) or we can use neural networks to search many linear and non-linear engineered features."
   ]
  },
  {
   "cell_type": "code",
   "execution_count": null,
   "id": "a4a2fd16-d112-4717-bc8f-d91af46d4dcc",
   "metadata": {},
   "outputs": [],
   "source": []
  }
 ],
 "metadata": {
  "kernelspec": {
   "display_name": "Python 3 (ipykernel)",
   "language": "python",
   "name": "python3"
  },
  "language_info": {
   "codemirror_mode": {
    "name": "ipython",
    "version": 3
   },
   "file_extension": ".py",
   "mimetype": "text/x-python",
   "name": "python",
   "nbconvert_exporter": "python",
   "pygments_lexer": "ipython3",
   "version": "3.9.5"
  }
 },
 "nbformat": 4,
 "nbformat_minor": 5
}
