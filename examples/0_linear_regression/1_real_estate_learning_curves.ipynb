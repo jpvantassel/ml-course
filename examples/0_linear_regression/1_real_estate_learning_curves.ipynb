{
 "cells": [
  {
   "cell_type": "markdown",
   "id": "86f5d609-636d-47dd-b9e5-c63522676507",
   "metadata": {},
   "source": [
    "# Linear Regression - Real Estate Data Set - Learning Curves\n",
    "\n",
    "> Joseph P. Vantassel, Texas Advanced Computing Center - The University of Texas at Austin"
   ]
  },
  {
   "cell_type": "code",
   "execution_count": 11,
   "id": "cb770507-c3a8-40c1-a2fd-5f2f57075402",
   "metadata": {},
   "outputs": [],
   "source": [
    "import matplotlib.pyplot as plt\n",
    "import numpy as np\n",
    "import pandas as pd\n",
    "import sklearn\n",
    "from sklearn import linear_model as lm"
   ]
  },
  {
   "cell_type": "markdown",
   "id": "ea1218af-8d51-4357-87f8-15230ed4ae3f",
   "metadata": {},
   "source": [
    "## Load Data Set"
   ]
  },
  {
   "cell_type": "code",
   "execution_count": 12,
   "id": "ca6996e9-99e8-4793-a75d-152707c9a741",
   "metadata": {},
   "outputs": [
    {
     "name": "stdout",
     "output_type": "stream",
     "text": [
      "xfeatures.shape = (414, 6)\n",
      "ypredict.shape = (414,)\n"
     ]
    }
   ],
   "source": [
    "# load dataframe\n",
    "df = pd.read_csv(\"real_estate.csv\")\n",
    "\n",
    "# convert to numpy\n",
    "xfeatures = df.iloc[:, 1:-1].to_numpy()\n",
    "ypredict = df.iloc[:, -1].to_numpy()\n",
    "\n",
    "# make sure we did the slices correctly\n",
    "print(f\"xfeatures.shape = {xfeatures.shape}\")\n",
    "print(f\"ypredict.shape = {ypredict.shape}\")"
   ]
  },
  {
   "cell_type": "markdown",
   "id": "bac27290-4acc-44b2-b77f-c31b27a2da86",
   "metadata": {},
   "source": [
    "## Shuffle & Split (Train - Validation - Test)"
   ]
  },
  {
   "cell_type": "code",
   "execution_count": 13,
   "id": "8869cb95-3bfd-4c44-b2ff-9d4eab5d5349",
   "metadata": {},
   "outputs": [
    {
     "name": "stdout",
     "output_type": "stream",
     "text": [
      "(289, 6) (289,)\n",
      "(62, 6) (62,)\n",
      "(62, 6) (62,)\n"
     ]
    }
   ],
   "source": [
    "ptrain, pvalid, ptest = 0.7, 0.15, 0.15\n",
    "\n",
    "# shuffle\n",
    "rng = np.random.default_rng(1824)\n",
    "shuffle_idxs = np.arange(len(ypredict))\n",
    "rng.shuffle(shuffle_idxs)\n",
    "xfeatures_shuffled = xfeatures[shuffle_idxs]\n",
    "ypredict_shuffled = ypredict[shuffle_idxs]\n",
    "\n",
    "# split\n",
    "start_idx, stop_idx = 0, int(ptrain*len(ypredict))\n",
    "xfeatures_train, ypredict_train = xfeatures_shuffled[start_idx: stop_idx], ypredict_shuffled[start_idx: stop_idx]\n",
    "print(xfeatures_train.shape, ypredict_train.shape)\n",
    "\n",
    "\n",
    "start_idx, stop_idx = stop_idx, stop_idx+int(pvalid*len(ypredict))\n",
    "xfeatures_valid, ypredict_valid = xfeatures_shuffled[start_idx: stop_idx], ypredict_shuffled[start_idx: stop_idx]\n",
    "print(xfeatures_valid.shape, ypredict_valid.shape)\n",
    "\n",
    "\n",
    "start_idx, stop_idx = stop_idx, -1\n",
    "xfeatures_test, ypredict_test = xfeatures_shuffled[start_idx: stop_idx], ypredict_shuffled[start_idx: stop_idx]\n",
    "print(xfeatures_test.shape, ypredict_test.shape)\n"
   ]
  },
  {
   "cell_type": "markdown",
   "id": "9b78f068-04fa-4049-b520-f5b59caa2002",
   "metadata": {},
   "source": [
    "## Learning Curves\n",
    "\n",
    "From our prior work we saw the effect of various transformations on linear regression. The addition of the quadratic terms worked pretty well except we did not see much improvement on the validation set, this may be because we do not have enough training examples. One way to test this hypothesis is by looking at the problems learning curves. In essense the learning curve we are going to look at is the loss on the train and validation set as a function of the number of training examples as see how our model improves with the number of samples."
   ]
  },
  {
   "cell_type": "code",
   "execution_count": 14,
   "id": "3ea314c0-a0b3-459f-90a1-f2b337d46a2f",
   "metadata": {},
   "outputs": [],
   "source": [
    "# constant to ensure no divide by zero\n",
    "eps = 1E-4\n",
    "\n",
    "def normalize_standardscore(features, means, stds):\n",
    "    return (features - means)/(stds + eps)\n",
    "    \n",
    "def normalize_minmax(features, mins, maxs):\n",
    "    return (features - mins)/((maxs - mins) + eps)\n",
    "\n",
    "def normalize_max(features, maxs):\n",
    "    return features / (maxs + eps)\n",
    "\n",
    "def rmse(yhat, y):\n",
    "    return np.sqrt(np.mean(np.power(yhat - y, 2)))"
   ]
  },
  {
   "cell_type": "code",
   "execution_count": 23,
   "id": "f09454c9-a9a5-4b34-a51e-7815d3dd1b0e",
   "metadata": {},
   "outputs": [],
   "source": [
    "percentiles = np.linspace(0.2, 1, 15)\n",
    "\n",
    "m = len(xfeatures_train)\n",
    "\n",
    "nsamples = []\n",
    "train_rmse = []\n",
    "valid_rmse = []\n",
    "for p in percentiles:\n",
    "    # numer of samples to use\n",
    "    _nsamples = int(p*m)\n",
    "    \n",
    "    # training set\n",
    "    x_train_tmp = xfeatures_train[:_nsamples]\n",
    "    x_valid_tmp = xfeatures_valid\n",
    "    \n",
    "    # add quadratic part (optional: comment out if undesired).\n",
    "    xfeatures_train_quad = []\n",
    "    for start, pfeature in enumerate(x_train_tmp.T):\n",
    "        for sfeature in x_train_tmp.T[start:]:\n",
    "            xfeatures_train_quad.append(pfeature * sfeature)\n",
    "    xfeatures_train_quad = np.array(xfeatures_train_quad).T\n",
    "    x_train_tmp = np.hstack((x_train_tmp, xfeatures_train_quad))\n",
    "\n",
    "    xfeatures_valid_quad = []\n",
    "    for start, pfeature in enumerate(xfeatures_valid.T):\n",
    "        for sfeature in xfeatures_valid.T[start:]:\n",
    "            xfeatures_valid_quad.append(pfeature * sfeature)\n",
    "    xfeatures_valid_quad = np.array(xfeatures_valid_quad).T\n",
    "    x_valid_tmp = np.hstack((xfeatures_valid, xfeatures_valid_quad))\n",
    "\n",
    "    # normalize\n",
    "    xmean, xstd = np.mean(x_train_tmp, axis=0), np.std(x_train_tmp, axis=0, ddof=1)\n",
    "    x_for_train = normalize_standardscore(x_train_tmp, xmean, xstd)\n",
    "    x_for_valid = normalize_standardscore(x_valid_tmp, xmean, xstd)\n",
    "    \n",
    "    y_for_train = ypredict_train[:_nsamples]\n",
    "    y_for_valid = ypredict_valid\n",
    "    \n",
    "    lmod = lm.LinearRegression(fit_intercept=True)\n",
    "    lmod_trained = lmod.fit(x_for_train, y_for_train)\n",
    "    \n",
    "    yhat_from_train = lmod_trained.predict(x_for_train)\n",
    "    yhat_from_valid = lmod_trained.predict(x_for_valid)\n",
    "    \n",
    "    nsamples.append(_nsamples)\n",
    "    train_rmse.append(rmse(yhat_from_train, y_for_train))\n",
    "    valid_rmse.append(rmse(yhat_from_valid, y_for_valid))"
   ]
  },
  {
   "cell_type": "code",
   "execution_count": 25,
   "id": "299a6ee0-c413-40bd-99a2-7a96b5683c87",
   "metadata": {},
   "outputs": [
    {
     "data": {
      "image/png": "[encoded data removed]",
      "text/plain": [
       "<Figure size 432x288 with 1 Axes>"
      ]
     },
     "metadata": {
      "needs_background": "light"
     },
     "output_type": "display_data"
    }
   ],
   "source": [
    "plt.plot(nsamples, train_rmse, label=\"Train\")\n",
    "plt.plot(nsamples, valid_rmse, label=\"Valid\")\n",
    "plt.xlabel(\"Size of Training Set\")\n",
    "plt.ylabel(\"Loss\")\n",
    "plt.legend()\n",
    "plt.show()"
   ]
  },
  {
   "cell_type": "markdown",
   "id": "b4e85ea3-bf1b-4eab-907f-f4f6955cccd6",
   "metadata": {},
   "source": [
    "## Conclusion\n",
    "\n",
    "We see that we are overfitting our training data meaning that more training samples and/or applying reguarization to our model will improve its fit. We refer to this type of model as a high-variance model. As we do not have access to more samples we can try adding regularization to reduce overfitting."
   ]
  },
  {
   "cell_type": "code",
   "execution_count": null,
   "id": "e3904ad8-b059-41fe-bd45-1154469b1c41",
   "metadata": {},
   "outputs": [],
   "source": []
  }
 ],
 "metadata": {
  "kernelspec": {
   "display_name": "Python 3 (ipykernel)",
   "language": "python",
   "name": "python3"
  },
  "language_info": {
   "codemirror_mode": {
    "name": "ipython",
    "version": 3
   },
   "file_extension": ".py",
   "mimetype": "text/x-python",
   "name": "python",
   "nbconvert_exporter": "python",
   "pygments_lexer": "ipython3",
   "version": "3.9.5"
  }
 },
 "nbformat": 4,
 "nbformat_minor": 5
}
